{
 "cells": [
  {
   "cell_type": "markdown",
   "id": "ff052071",
   "metadata": {},
   "source": [
    "## ETL \n",
    "###### EXTRACT TRANSFORM LOAD"
   ]
  },
  {
   "cell_type": "code",
   "execution_count": 7,
   "id": "1a05dad2",
   "metadata": {},
   "outputs": [],
   "source": [
    "import pandas as pd"
   ]
  },
  {
   "cell_type": "code",
   "execution_count": 8,
   "id": "cb115082",
   "metadata": {},
   "outputs": [
    {
     "data": {
      "text/html": [
       "<div>\n",
       "<style scoped>\n",
       "    .dataframe tbody tr th:only-of-type {\n",
       "        vertical-align: middle;\n",
       "    }\n",
       "\n",
       "    .dataframe tbody tr th {\n",
       "        vertical-align: top;\n",
       "    }\n",
       "\n",
       "    .dataframe thead th {\n",
       "        text-align: right;\n",
       "    }\n",
       "</style>\n",
       "<table border=\"1\" class=\"dataframe\">\n",
       "  <thead>\n",
       "    <tr style=\"text-align: right;\">\n",
       "      <th></th>\n",
       "      <th>Product ID,Category,Product,Size,Last Visited</th>\n",
       "    </tr>\n",
       "  </thead>\n",
       "  <tbody>\n",
       "    <tr>\n",
       "      <th>0</th>\n",
       "      <td>AH2430,Women's,Blazing Trail Shoes,Size 9,2020...</td>\n",
       "    </tr>\n",
       "    <tr>\n",
       "      <th>1</th>\n",
       "      <td>G27341,Men's,Forest Trail Shoes,Size 11,2020-0...</td>\n",
       "    </tr>\n",
       "    <tr>\n",
       "      <th>2</th>\n",
       "      <td>CM0081,Women's,Swift Running Shoes,Size 7,2020...</td>\n",
       "    </tr>\n",
       "    <tr>\n",
       "      <th>3</th>\n",
       "      <td>B44832,Women's,Running Hard Shoes,Size 6,2020-...</td>\n",
       "    </tr>\n",
       "    <tr>\n",
       "      <th>4</th>\n",
       "      <td>D98205,Men's,Lite Racing Shoes,Size 10,2020-04...</td>\n",
       "    </tr>\n",
       "    <tr>\n",
       "      <th>5</th>\n",
       "      <td>B75586,Men's,Running Rebound Shoes,Size 12,202...</td>\n",
       "    </tr>\n",
       "    <tr>\n",
       "      <th>6</th>\n",
       "      <td>CG4051,Women's,Inspired Victory Shoes,Size 8,2...</td>\n",
       "    </tr>\n",
       "    <tr>\n",
       "      <th>7</th>\n",
       "      <td>CM0080,Women's,Responsive Trail Shoes,Size 9,2...</td>\n",
       "    </tr>\n",
       "    <tr>\n",
       "      <th>8</th>\n",
       "      <td>B75990,Men's,Energy Boost Running Shoes,Size 1...</td>\n",
       "    </tr>\n",
       "    <tr>\n",
       "      <th>9</th>\n",
       "      <td>EE5761,Men's,Pure Bouncer Running Shoes,Size 9...</td>\n",
       "    </tr>\n",
       "  </tbody>\n",
       "</table>\n",
       "</div>"
      ],
      "text/plain": [
       "       Product ID,Category,Product,Size,Last Visited\n",
       "0  AH2430,Women's,Blazing Trail Shoes,Size 9,2020...\n",
       "1  G27341,Men's,Forest Trail Shoes,Size 11,2020-0...\n",
       "2  CM0081,Women's,Swift Running Shoes,Size 7,2020...\n",
       "3  B44832,Women's,Running Hard Shoes,Size 6,2020-...\n",
       "4  D98205,Men's,Lite Racing Shoes,Size 10,2020-04...\n",
       "5  B75586,Men's,Running Rebound Shoes,Size 12,202...\n",
       "6  CG4051,Women's,Inspired Victory Shoes,Size 8,2...\n",
       "7  CM0080,Women's,Responsive Trail Shoes,Size 9,2...\n",
       "8  B75990,Men's,Energy Boost Running Shoes,Size 1...\n",
       "9  EE5761,Men's,Pure Bouncer Running Shoes,Size 9..."
      ]
     },
     "execution_count": 8,
     "metadata": {},
     "output_type": "execute_result"
    }
   ],
   "source": [
    "orders_df=pd.read_excel('./running_shoes.xlsx')\n",
    "orders_df"
   ]
  },
  {
   "cell_type": "code",
   "execution_count": 7,
   "id": "1e331758",
   "metadata": {},
   "outputs": [
    {
     "name": "stdout",
     "output_type": "stream",
     "text": [
      "<class 'pandas.core.frame.DataFrame'>\n",
      "RangeIndex: 10 entries, 0 to 9\n",
      "Data columns (total 1 columns):\n",
      " #   Column                                         Non-Null Count  Dtype \n",
      "---  ------                                         --------------  ----- \n",
      " 0   Product ID,Category,Product,Size,Last Visited  10 non-null     object\n",
      "dtypes: object(1)\n",
      "memory usage: 208.0+ bytes\n"
     ]
    }
   ],
   "source": [
    "orders_df.info()"
   ]
  },
  {
   "cell_type": "code",
   "execution_count": 8,
   "id": "207f9cdf",
   "metadata": {},
   "outputs": [],
   "source": [
    "#convert our pd series to a list, then we are going to iterate over each string to split this into a new list\n"
   ]
  },
  {
   "cell_type": "code",
   "execution_count": 4,
   "id": "a9ef59ad",
   "metadata": {},
   "outputs": [
    {
     "data": {
      "text/plain": [
       "['Product ID,Category,Product,Size,Last Visited']"
      ]
     },
     "execution_count": 4,
     "metadata": {},
     "output_type": "execute_result"
    }
   ],
   "source": [
    "shoe_order_cols=orders_df.columns.tolist()\n",
    "shoe_order_cols\n"
   ]
  },
  {
   "cell_type": "code",
   "execution_count": 5,
   "id": "cea64acb",
   "metadata": {},
   "outputs": [
    {
     "data": {
      "text/plain": [
       "'Product ID,Category,Product,Size,Last Visited'"
      ]
     },
     "execution_count": 5,
     "metadata": {},
     "output_type": "execute_result"
    }
   ],
   "source": [
    "shoe_order_cols[0]"
   ]
  },
  {
   "cell_type": "code",
   "execution_count": 6,
   "id": "6a3b97a4",
   "metadata": {},
   "outputs": [
    {
     "data": {
      "text/plain": [
       "['Product ID', 'Category', 'Product', 'Size', 'Last Visited']"
      ]
     },
     "execution_count": 6,
     "metadata": {},
     "output_type": "execute_result"
    }
   ],
   "source": [
    "new_columns=shoe_order_cols[0].split(',')\n",
    "new_columns"
   ]
  },
  {
   "cell_type": "code",
   "execution_count": 61,
   "id": "80e057a9",
   "metadata": {},
   "outputs": [
    {
     "data": {
      "text/plain": [
       "[['AH2430',\n",
       "  \"Women's\",\n",
       "  'Blazing Trail Shoes',\n",
       "  9,\n",
       "  Timestamp('2020-04-13 15:06:15')],\n",
       " ['G27341',\n",
       "  \"Men's\",\n",
       "  'Forest Trail Shoes',\n",
       "  11,\n",
       "  Timestamp('2020-04-13 15:06:18')],\n",
       " ['CM0081',\n",
       "  \"Women's\",\n",
       "  'Swift Running Shoes',\n",
       "  7,\n",
       "  Timestamp('2020-04-13 15:06:20')],\n",
       " ['B44832',\n",
       "  \"Women's\",\n",
       "  'Running Hard Shoes',\n",
       "  6,\n",
       "  Timestamp('2020-04-13 15:06:23')],\n",
       " ['D98205',\n",
       "  \"Men's\",\n",
       "  'Lite Racing Shoes',\n",
       "  10,\n",
       "  Timestamp('2020-04-13 15:06:26')],\n",
       " ['B75586',\n",
       "  \"Men's\",\n",
       "  'Running Rebound Shoes',\n",
       "  12,\n",
       "  Timestamp('2020-04-13 15:06:30')],\n",
       " ['CG4051',\n",
       "  \"Women's\",\n",
       "  'Inspired Victory Shoes',\n",
       "  8,\n",
       "  Timestamp('2020-04-13 15:06:33')],\n",
       " ['CM0080',\n",
       "  \"Women's\",\n",
       "  'Responsive Trail Shoes',\n",
       "  9,\n",
       "  Timestamp('2020-04-13 15:06:36')],\n",
       " ['B75990',\n",
       "  \"Men's\",\n",
       "  'Energy Boost Running Shoes',\n",
       "  13,\n",
       "  Timestamp('2020-04-13 15:06:40')],\n",
       " ['EE5761',\n",
       "  \"Men's\",\n",
       "  'Pure Bouncer Running Shoes',\n",
       "  9,\n",
       "  Timestamp('2020-04-13 15:06:45')]]"
      ]
     },
     "execution_count": 61,
     "metadata": {},
     "output_type": "execute_result"
    }
   ],
   "source": [
    "orders_df.values.tolist() \n",
    "#creates a list of lists that in turn have only 1 item"
   ]
  },
  {
   "cell_type": "code",
   "execution_count": 9,
   "id": "e33c9b65",
   "metadata": {},
   "outputs": [
    {
     "data": {
      "text/plain": [
       "[['AH2430', \"Women's\", 'Blazing Trail Shoes', 'Size 9', '2020-04-13T15:06:15'],\n",
       " ['G27341', \"Men's\", 'Forest Trail Shoes', 'Size 11', '2020-04-13T15:06:18'],\n",
       " ['CM0081', \"Women's\", 'Swift Running Shoes', 'Size 7', '2020-04-13T15:06:20'],\n",
       " ['B44832', \"Women's\", 'Running Hard Shoes', 'Size 6', '2020-04-13T15:06:23'],\n",
       " ['D98205', \"Men's\", 'Lite Racing Shoes', 'Size 10', '2020-04-13T15:06:26'],\n",
       " ['B75586',\n",
       "  \"Men's\",\n",
       "  'Running Rebound Shoes',\n",
       "  'Size 12',\n",
       "  '2020-04-13T15:06:30'],\n",
       " ['CG4051',\n",
       "  \"Women's\",\n",
       "  'Inspired Victory Shoes',\n",
       "  'Size 8',\n",
       "  '2020-04-13T15:06:33'],\n",
       " ['CM0080',\n",
       "  \"Women's\",\n",
       "  'Responsive Trail Shoes',\n",
       "  'Size 9',\n",
       "  '2020-04-13T15:06:36'],\n",
       " ['B75990',\n",
       "  \"Men's\",\n",
       "  'Energy Boost Running Shoes',\n",
       "  'Size 13',\n",
       "  '2020-04-13T15:06:40'],\n",
       " ['EE5761',\n",
       "  \"Men's\",\n",
       "  'Pure Bouncer Running Shoes',\n",
       "  'Size 9',\n",
       "  '2020-04-13T15:06:45']]"
      ]
     },
     "execution_count": 9,
     "metadata": {},
     "output_type": "execute_result"
    }
   ],
   "source": [
    "new_data=[]\n",
    "for item in orders_df.values.tolist():\n",
    "    new_data.append(item[0].split(','))\n",
    "new_data"
   ]
  },
  {
   "cell_type": "code",
   "execution_count": 10,
   "id": "ef670106",
   "metadata": {},
   "outputs": [
    {
     "data": {
      "text/html": [
       "<div>\n",
       "<style scoped>\n",
       "    .dataframe tbody tr th:only-of-type {\n",
       "        vertical-align: middle;\n",
       "    }\n",
       "\n",
       "    .dataframe tbody tr th {\n",
       "        vertical-align: top;\n",
       "    }\n",
       "\n",
       "    .dataframe thead th {\n",
       "        text-align: right;\n",
       "    }\n",
       "</style>\n",
       "<table border=\"1\" class=\"dataframe\">\n",
       "  <thead>\n",
       "    <tr style=\"text-align: right;\">\n",
       "      <th></th>\n",
       "      <th>Product ID</th>\n",
       "      <th>Category</th>\n",
       "      <th>Product</th>\n",
       "      <th>Size</th>\n",
       "      <th>Last Visited</th>\n",
       "    </tr>\n",
       "  </thead>\n",
       "  <tbody>\n",
       "    <tr>\n",
       "      <th>0</th>\n",
       "      <td>AH2430</td>\n",
       "      <td>Women's</td>\n",
       "      <td>Blazing Trail Shoes</td>\n",
       "      <td>Size 9</td>\n",
       "      <td>2020-04-13T15:06:15</td>\n",
       "    </tr>\n",
       "    <tr>\n",
       "      <th>1</th>\n",
       "      <td>G27341</td>\n",
       "      <td>Men's</td>\n",
       "      <td>Forest Trail Shoes</td>\n",
       "      <td>Size 11</td>\n",
       "      <td>2020-04-13T15:06:18</td>\n",
       "    </tr>\n",
       "    <tr>\n",
       "      <th>2</th>\n",
       "      <td>CM0081</td>\n",
       "      <td>Women's</td>\n",
       "      <td>Swift Running Shoes</td>\n",
       "      <td>Size 7</td>\n",
       "      <td>2020-04-13T15:06:20</td>\n",
       "    </tr>\n",
       "    <tr>\n",
       "      <th>3</th>\n",
       "      <td>B44832</td>\n",
       "      <td>Women's</td>\n",
       "      <td>Running Hard Shoes</td>\n",
       "      <td>Size 6</td>\n",
       "      <td>2020-04-13T15:06:23</td>\n",
       "    </tr>\n",
       "    <tr>\n",
       "      <th>4</th>\n",
       "      <td>D98205</td>\n",
       "      <td>Men's</td>\n",
       "      <td>Lite Racing Shoes</td>\n",
       "      <td>Size 10</td>\n",
       "      <td>2020-04-13T15:06:26</td>\n",
       "    </tr>\n",
       "    <tr>\n",
       "      <th>5</th>\n",
       "      <td>B75586</td>\n",
       "      <td>Men's</td>\n",
       "      <td>Running Rebound Shoes</td>\n",
       "      <td>Size 12</td>\n",
       "      <td>2020-04-13T15:06:30</td>\n",
       "    </tr>\n",
       "    <tr>\n",
       "      <th>6</th>\n",
       "      <td>CG4051</td>\n",
       "      <td>Women's</td>\n",
       "      <td>Inspired Victory Shoes</td>\n",
       "      <td>Size 8</td>\n",
       "      <td>2020-04-13T15:06:33</td>\n",
       "    </tr>\n",
       "    <tr>\n",
       "      <th>7</th>\n",
       "      <td>CM0080</td>\n",
       "      <td>Women's</td>\n",
       "      <td>Responsive Trail Shoes</td>\n",
       "      <td>Size 9</td>\n",
       "      <td>2020-04-13T15:06:36</td>\n",
       "    </tr>\n",
       "    <tr>\n",
       "      <th>8</th>\n",
       "      <td>B75990</td>\n",
       "      <td>Men's</td>\n",
       "      <td>Energy Boost Running Shoes</td>\n",
       "      <td>Size 13</td>\n",
       "      <td>2020-04-13T15:06:40</td>\n",
       "    </tr>\n",
       "    <tr>\n",
       "      <th>9</th>\n",
       "      <td>EE5761</td>\n",
       "      <td>Men's</td>\n",
       "      <td>Pure Bouncer Running Shoes</td>\n",
       "      <td>Size 9</td>\n",
       "      <td>2020-04-13T15:06:45</td>\n",
       "    </tr>\n",
       "  </tbody>\n",
       "</table>\n",
       "</div>"
      ],
      "text/plain": [
       "  Product ID Category                     Product     Size  \\\n",
       "0     AH2430  Women's         Blazing Trail Shoes   Size 9   \n",
       "1     G27341    Men's          Forest Trail Shoes  Size 11   \n",
       "2     CM0081  Women's         Swift Running Shoes   Size 7   \n",
       "3     B44832  Women's          Running Hard Shoes   Size 6   \n",
       "4     D98205    Men's           Lite Racing Shoes  Size 10   \n",
       "5     B75586    Men's       Running Rebound Shoes  Size 12   \n",
       "6     CG4051  Women's      Inspired Victory Shoes   Size 8   \n",
       "7     CM0080  Women's      Responsive Trail Shoes   Size 9   \n",
       "8     B75990    Men's  Energy Boost Running Shoes  Size 13   \n",
       "9     EE5761    Men's  Pure Bouncer Running Shoes   Size 9   \n",
       "\n",
       "          Last Visited  \n",
       "0  2020-04-13T15:06:15  \n",
       "1  2020-04-13T15:06:18  \n",
       "2  2020-04-13T15:06:20  \n",
       "3  2020-04-13T15:06:23  \n",
       "4  2020-04-13T15:06:26  \n",
       "5  2020-04-13T15:06:30  \n",
       "6  2020-04-13T15:06:33  \n",
       "7  2020-04-13T15:06:36  \n",
       "8  2020-04-13T15:06:40  \n",
       "9  2020-04-13T15:06:45  "
      ]
     },
     "execution_count": 10,
     "metadata": {},
     "output_type": "execute_result"
    }
   ],
   "source": [
    "orders_df=pd.DataFrame(new_data,columns=new_columns)\n",
    "orders_df"
   ]
  },
  {
   "cell_type": "code",
   "execution_count": 63,
   "id": "5779bcb6",
   "metadata": {},
   "outputs": [
    {
     "data": {
      "text/plain": [
       "Index(['Product ID', 'Category', 'Product', 'Size', 'Last Visited'], dtype='object')"
      ]
     },
     "execution_count": 63,
     "metadata": {},
     "output_type": "execute_result"
    }
   ],
   "source": [
    "orders_df=pd.read_excel('running_shoes.xlsx')\n",
    "new_columns=orders_df.columns.str.split(',').tolist()[0]\n",
    "new_data=orders_df.iloc[:,0].str.split(',').tolist()\n",
    "orders_df=pd.DataFrame(new_data,columns=new_columns)\n",
    "orders_df.columns"
   ]
  },
  {
   "cell_type": "code",
   "execution_count": 46,
   "id": "24170f92",
   "metadata": {},
   "outputs": [
    {
     "data": {
      "text/html": [
       "<div>\n",
       "<style scoped>\n",
       "    .dataframe tbody tr th:only-of-type {\n",
       "        vertical-align: middle;\n",
       "    }\n",
       "\n",
       "    .dataframe tbody tr th {\n",
       "        vertical-align: top;\n",
       "    }\n",
       "\n",
       "    .dataframe thead th {\n",
       "        text-align: right;\n",
       "    }\n",
       "</style>\n",
       "<table border=\"1\" class=\"dataframe\">\n",
       "  <thead>\n",
       "    <tr style=\"text-align: right;\">\n",
       "      <th></th>\n",
       "      <th>product_id</th>\n",
       "      <th>category</th>\n",
       "      <th>product</th>\n",
       "      <th>size</th>\n",
       "      <th>last_visited</th>\n",
       "    </tr>\n",
       "  </thead>\n",
       "  <tbody>\n",
       "    <tr>\n",
       "      <th>0</th>\n",
       "      <td>AH2430</td>\n",
       "      <td>Women's</td>\n",
       "      <td>Blazing Trail Shoes</td>\n",
       "      <td>Size 9</td>\n",
       "      <td>2020-04-13T15:06:15</td>\n",
       "    </tr>\n",
       "    <tr>\n",
       "      <th>1</th>\n",
       "      <td>G27341</td>\n",
       "      <td>Men's</td>\n",
       "      <td>Forest Trail Shoes</td>\n",
       "      <td>Size 11</td>\n",
       "      <td>2020-04-13T15:06:18</td>\n",
       "    </tr>\n",
       "    <tr>\n",
       "      <th>2</th>\n",
       "      <td>CM0081</td>\n",
       "      <td>Women's</td>\n",
       "      <td>Swift Running Shoes</td>\n",
       "      <td>Size 7</td>\n",
       "      <td>2020-04-13T15:06:20</td>\n",
       "    </tr>\n",
       "    <tr>\n",
       "      <th>3</th>\n",
       "      <td>B44832</td>\n",
       "      <td>Women's</td>\n",
       "      <td>Running Hard Shoes</td>\n",
       "      <td>Size 6</td>\n",
       "      <td>2020-04-13T15:06:23</td>\n",
       "    </tr>\n",
       "    <tr>\n",
       "      <th>4</th>\n",
       "      <td>D98205</td>\n",
       "      <td>Men's</td>\n",
       "      <td>Lite Racing Shoes</td>\n",
       "      <td>Size 10</td>\n",
       "      <td>2020-04-13T15:06:26</td>\n",
       "    </tr>\n",
       "    <tr>\n",
       "      <th>5</th>\n",
       "      <td>B75586</td>\n",
       "      <td>Men's</td>\n",
       "      <td>Running Rebound Shoes</td>\n",
       "      <td>Size 12</td>\n",
       "      <td>2020-04-13T15:06:30</td>\n",
       "    </tr>\n",
       "    <tr>\n",
       "      <th>6</th>\n",
       "      <td>CG4051</td>\n",
       "      <td>Women's</td>\n",
       "      <td>Inspired Victory Shoes</td>\n",
       "      <td>Size 8</td>\n",
       "      <td>2020-04-13T15:06:33</td>\n",
       "    </tr>\n",
       "    <tr>\n",
       "      <th>7</th>\n",
       "      <td>CM0080</td>\n",
       "      <td>Women's</td>\n",
       "      <td>Responsive Trail Shoes</td>\n",
       "      <td>Size 9</td>\n",
       "      <td>2020-04-13T15:06:36</td>\n",
       "    </tr>\n",
       "    <tr>\n",
       "      <th>8</th>\n",
       "      <td>B75990</td>\n",
       "      <td>Men's</td>\n",
       "      <td>Energy Boost Running Shoes</td>\n",
       "      <td>Size 13</td>\n",
       "      <td>2020-04-13T15:06:40</td>\n",
       "    </tr>\n",
       "    <tr>\n",
       "      <th>9</th>\n",
       "      <td>EE5761</td>\n",
       "      <td>Men's</td>\n",
       "      <td>Pure Bouncer Running Shoes</td>\n",
       "      <td>Size 9</td>\n",
       "      <td>2020-04-13T15:06:45</td>\n",
       "    </tr>\n",
       "  </tbody>\n",
       "</table>\n",
       "</div>"
      ],
      "text/plain": [
       "  product_id category                     product     size  \\\n",
       "0     AH2430  Women's         Blazing Trail Shoes   Size 9   \n",
       "1     G27341    Men's          Forest Trail Shoes  Size 11   \n",
       "2     CM0081  Women's         Swift Running Shoes   Size 7   \n",
       "3     B44832  Women's          Running Hard Shoes   Size 6   \n",
       "4     D98205    Men's           Lite Racing Shoes  Size 10   \n",
       "5     B75586    Men's       Running Rebound Shoes  Size 12   \n",
       "6     CG4051  Women's      Inspired Victory Shoes   Size 8   \n",
       "7     CM0080  Women's      Responsive Trail Shoes   Size 9   \n",
       "8     B75990    Men's  Energy Boost Running Shoes  Size 13   \n",
       "9     EE5761    Men's  Pure Bouncer Running Shoes   Size 9   \n",
       "\n",
       "          last_visited  \n",
       "0  2020-04-13T15:06:15  \n",
       "1  2020-04-13T15:06:18  \n",
       "2  2020-04-13T15:06:20  \n",
       "3  2020-04-13T15:06:23  \n",
       "4  2020-04-13T15:06:26  \n",
       "5  2020-04-13T15:06:30  \n",
       "6  2020-04-13T15:06:33  \n",
       "7  2020-04-13T15:06:36  \n",
       "8  2020-04-13T15:06:40  \n",
       "9  2020-04-13T15:06:45  "
      ]
     },
     "execution_count": 46,
     "metadata": {},
     "output_type": "execute_result"
    }
   ],
   "source": [
    "orders_df.columns=orders_df.columns.str.lower().str.replace(' ','_')\n",
    "orders_df"
   ]
  },
  {
   "cell_type": "code",
   "execution_count": 47,
   "id": "c8a09b89",
   "metadata": {},
   "outputs": [
    {
     "data": {
      "text/html": [
       "<div>\n",
       "<style scoped>\n",
       "    .dataframe tbody tr th:only-of-type {\n",
       "        vertical-align: middle;\n",
       "    }\n",
       "\n",
       "    .dataframe tbody tr th {\n",
       "        vertical-align: top;\n",
       "    }\n",
       "\n",
       "    .dataframe thead th {\n",
       "        text-align: right;\n",
       "    }\n",
       "</style>\n",
       "<table border=\"1\" class=\"dataframe\">\n",
       "  <thead>\n",
       "    <tr style=\"text-align: right;\">\n",
       "      <th></th>\n",
       "      <th>product_id</th>\n",
       "      <th>category</th>\n",
       "      <th>product</th>\n",
       "      <th>size</th>\n",
       "      <th>last_visited</th>\n",
       "    </tr>\n",
       "  </thead>\n",
       "  <tbody>\n",
       "    <tr>\n",
       "      <th>0</th>\n",
       "      <td>AH2430</td>\n",
       "      <td>Women's</td>\n",
       "      <td>Blazing Trail Shoes</td>\n",
       "      <td>Size 9</td>\n",
       "      <td>2020-04-13T15:06:15</td>\n",
       "    </tr>\n",
       "    <tr>\n",
       "      <th>1</th>\n",
       "      <td>G27341</td>\n",
       "      <td>Men's</td>\n",
       "      <td>Forest Trail Shoes</td>\n",
       "      <td>Size 11</td>\n",
       "      <td>2020-04-13T15:06:18</td>\n",
       "    </tr>\n",
       "    <tr>\n",
       "      <th>2</th>\n",
       "      <td>CM0081</td>\n",
       "      <td>Women's</td>\n",
       "      <td>Swift Running Shoes</td>\n",
       "      <td>Size 7</td>\n",
       "      <td>2020-04-13T15:06:20</td>\n",
       "    </tr>\n",
       "    <tr>\n",
       "      <th>3</th>\n",
       "      <td>B44832</td>\n",
       "      <td>Women's</td>\n",
       "      <td>Running Hard Shoes</td>\n",
       "      <td>Size 6</td>\n",
       "      <td>2020-04-13T15:06:23</td>\n",
       "    </tr>\n",
       "    <tr>\n",
       "      <th>4</th>\n",
       "      <td>D98205</td>\n",
       "      <td>Men's</td>\n",
       "      <td>Lite Racing Shoes</td>\n",
       "      <td>Size 10</td>\n",
       "      <td>2020-04-13T15:06:26</td>\n",
       "    </tr>\n",
       "    <tr>\n",
       "      <th>5</th>\n",
       "      <td>B75586</td>\n",
       "      <td>Men's</td>\n",
       "      <td>Running Rebound Shoes</td>\n",
       "      <td>Size 12</td>\n",
       "      <td>2020-04-13T15:06:30</td>\n",
       "    </tr>\n",
       "    <tr>\n",
       "      <th>6</th>\n",
       "      <td>CG4051</td>\n",
       "      <td>Women's</td>\n",
       "      <td>Inspired Victory Shoes</td>\n",
       "      <td>Size 8</td>\n",
       "      <td>2020-04-13T15:06:33</td>\n",
       "    </tr>\n",
       "    <tr>\n",
       "      <th>7</th>\n",
       "      <td>CM0080</td>\n",
       "      <td>Women's</td>\n",
       "      <td>Responsive Trail Shoes</td>\n",
       "      <td>Size 9</td>\n",
       "      <td>2020-04-13T15:06:36</td>\n",
       "    </tr>\n",
       "    <tr>\n",
       "      <th>8</th>\n",
       "      <td>B75990</td>\n",
       "      <td>Men's</td>\n",
       "      <td>Energy Boost Running Shoes</td>\n",
       "      <td>Size 13</td>\n",
       "      <td>2020-04-13T15:06:40</td>\n",
       "    </tr>\n",
       "    <tr>\n",
       "      <th>9</th>\n",
       "      <td>EE5761</td>\n",
       "      <td>Men's</td>\n",
       "      <td>Pure Bouncer Running Shoes</td>\n",
       "      <td>Size 9</td>\n",
       "      <td>2020-04-13T15:06:45</td>\n",
       "    </tr>\n",
       "  </tbody>\n",
       "</table>\n",
       "</div>"
      ],
      "text/plain": [
       "  product_id category                     product     size  \\\n",
       "0     AH2430  Women's         Blazing Trail Shoes   Size 9   \n",
       "1     G27341    Men's          Forest Trail Shoes  Size 11   \n",
       "2     CM0081  Women's         Swift Running Shoes   Size 7   \n",
       "3     B44832  Women's          Running Hard Shoes   Size 6   \n",
       "4     D98205    Men's           Lite Racing Shoes  Size 10   \n",
       "5     B75586    Men's       Running Rebound Shoes  Size 12   \n",
       "6     CG4051  Women's      Inspired Victory Shoes   Size 8   \n",
       "7     CM0080  Women's      Responsive Trail Shoes   Size 9   \n",
       "8     B75990    Men's  Energy Boost Running Shoes  Size 13   \n",
       "9     EE5761    Men's  Pure Bouncer Running Shoes   Size 9   \n",
       "\n",
       "          last_visited  \n",
       "0  2020-04-13T15:06:15  \n",
       "1  2020-04-13T15:06:18  \n",
       "2  2020-04-13T15:06:20  \n",
       "3  2020-04-13T15:06:23  \n",
       "4  2020-04-13T15:06:26  \n",
       "5  2020-04-13T15:06:30  \n",
       "6  2020-04-13T15:06:33  \n",
       "7  2020-04-13T15:06:36  \n",
       "8  2020-04-13T15:06:40  \n",
       "9  2020-04-13T15:06:45  "
      ]
     },
     "execution_count": 47,
     "metadata": {},
     "output_type": "execute_result"
    }
   ],
   "source": [
    "orders_dff=orders_df.rename(columns={\n",
    "    'Product ID':'productID',\n",
    "    'Category':'category',\n",
    "    'Product':'producttt',\n",
    "    'Size':'size',\n",
    "    'Last Visited':'lastvisited'\n",
    "})\n",
    "orders_dff"
   ]
  },
  {
   "cell_type": "code",
   "execution_count": 48,
   "id": "c5044509",
   "metadata": {},
   "outputs": [
    {
     "name": "stdout",
     "output_type": "stream",
     "text": [
      "<class 'pandas.core.frame.DataFrame'>\n",
      "RangeIndex: 10 entries, 0 to 9\n",
      "Data columns (total 5 columns):\n",
      " #   Column        Non-Null Count  Dtype \n",
      "---  ------        --------------  ----- \n",
      " 0   product_id    10 non-null     object\n",
      " 1   category      10 non-null     object\n",
      " 2   product       10 non-null     object\n",
      " 3   size          10 non-null     object\n",
      " 4   last_visited  10 non-null     object\n",
      "dtypes: object(5)\n",
      "memory usage: 528.0+ bytes\n"
     ]
    }
   ],
   "source": [
    "orders_df.info()"
   ]
  },
  {
   "cell_type": "code",
   "execution_count": 53,
   "id": "38eb308e",
   "metadata": {},
   "outputs": [
    {
     "name": "stdout",
     "output_type": "stream",
     "text": [
      "<class 'pandas.core.frame.DataFrame'>\n",
      "RangeIndex: 10 entries, 0 to 9\n",
      "Data columns (total 5 columns):\n",
      " #   Column        Non-Null Count  Dtype \n",
      "---  ------        --------------  ----- \n",
      " 0   product_id    10 non-null     object\n",
      " 1   category      10 non-null     object\n",
      " 2   product       10 non-null     object\n",
      " 3   size          10 non-null     int64 \n",
      " 4   last_visited  10 non-null     object\n",
      "dtypes: int64(1), object(4)\n",
      "memory usage: 528.0+ bytes\n"
     ]
    }
   ],
   "source": [
    "orders_df['size']=orders_df['size'].str.replace('Size ','').astype('int')\n",
    "orders_df.info()"
   ]
  },
  {
   "cell_type": "code",
   "execution_count": 56,
   "id": "fecaf168",
   "metadata": {},
   "outputs": [],
   "source": [
    "orders_df['last_visited']=pd.to_datetime(orders_df['last_visited'],format='%Y-%m-%dT%H:%M:%S')"
   ]
  },
  {
   "cell_type": "code",
   "execution_count": 57,
   "id": "3ea86d5f",
   "metadata": {},
   "outputs": [
    {
     "name": "stdout",
     "output_type": "stream",
     "text": [
      "<class 'pandas.core.frame.DataFrame'>\n",
      "RangeIndex: 10 entries, 0 to 9\n",
      "Data columns (total 5 columns):\n",
      " #   Column        Non-Null Count  Dtype         \n",
      "---  ------        --------------  -----         \n",
      " 0   product_id    10 non-null     object        \n",
      " 1   category      10 non-null     object        \n",
      " 2   product       10 non-null     object        \n",
      " 3   size          10 non-null     int64         \n",
      " 4   last_visited  10 non-null     datetime64[ns]\n",
      "dtypes: datetime64[ns](1), int64(1), object(3)\n",
      "memory usage: 528.0+ bytes\n"
     ]
    }
   ],
   "source": [
    "orders_df.info()"
   ]
  },
  {
   "cell_type": "code",
   "execution_count": null,
   "id": "155e4418",
   "metadata": {},
   "outputs": [],
   "source": []
  }
 ],
 "metadata": {
  "kernelspec": {
   "display_name": "Python 3 (ipykernel)",
   "language": "python",
   "name": "python3"
  },
  "language_info": {
   "codemirror_mode": {
    "name": "ipython",
    "version": 3
   },
   "file_extension": ".py",
   "mimetype": "text/x-python",
   "name": "python",
   "nbconvert_exporter": "python",
   "pygments_lexer": "ipython3",
   "version": "3.9.12"
  }
 },
 "nbformat": 4,
 "nbformat_minor": 5
}
